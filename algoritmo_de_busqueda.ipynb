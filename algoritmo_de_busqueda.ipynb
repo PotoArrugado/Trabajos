{
  "nbformat": 4,
  "nbformat_minor": 0,
  "metadata": {
    "colab": {
      "provenance": [],
      "authorship_tag": "ABX9TyMDgQ6XNl7TnzuIObhBZoL6",
      "include_colab_link": true
    },
    "kernelspec": {
      "name": "python3",
      "display_name": "Python 3"
    },
    "language_info": {
      "name": "python"
    }
  },
  "cells": [
    {
      "cell_type": "markdown",
      "metadata": {
        "id": "view-in-github",
        "colab_type": "text"
      },
      "source": [
        "<a href=\"https://colab.research.google.com/github/PotoArrugado/Trabajos/blob/main/algoritmo_de_busqueda.ipynb\" target=\"_parent\"><img src=\"https://colab.research.google.com/assets/colab-badge.svg\" alt=\"Open In Colab\"/></a>"
      ]
    },
    {
      "cell_type": "code",
      "execution_count": null,
      "metadata": {
        "id": "gp1yqEnTzOMS"
      },
      "outputs": [],
      "source": [
        "def busqueda_lineal():\n",
        "  \"\"\"\n",
        "  Realiza una búsqueda lineal en una lista de números ingresada por el usuario.\n",
        "  \"\"\"\n",
        "  try:\n",
        "    numeros_str = input(\"Ingresa una lista de números separados por espacios: \")\n",
        "    numeros = [int(x) for x in numeros_str.split()]\n",
        "\n",
        "    objetivo = int(input(\"Ingresa el número que deseas buscar: \"))\n",
        "\n",
        "    encontrado = False\n",
        "    for i in range(len(numeros)):\n",
        "      if numeros[i] == objetivo:\n",
        "        print(f\"El número {objetivo} se encontró en la posición {i}.\")\n",
        "        encontrado = True\n",
        "        break  # Salir del bucle una vez encontrado\n",
        "\n",
        "    if not encontrado:\n",
        "      print(f\"El número {objetivo} no se encontró en la lista.\")\n",
        "\n",
        "  except ValueError:\n",
        "      print(\"Entrada inválida. Por favor, ingresa números separados por espacios.\")\n",
        "  except Exception as e:\n",
        "    print(f\"Ocurrió un error: {e}\")\n",
        "\n",
        "\n",
        "busqueda_lineal()\n"
      ]
    }
  ]
}