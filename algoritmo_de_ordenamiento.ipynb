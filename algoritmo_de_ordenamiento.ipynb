{
  "nbformat": 4,
  "nbformat_minor": 0,
  "metadata": {
    "colab": {
      "provenance": [],
      "authorship_tag": "ABX9TyN7ITJX/75MoI6xc7rGp9Ap",
      "include_colab_link": true
    },
    "kernelspec": {
      "name": "python3",
      "display_name": "Python 3"
    },
    "language_info": {
      "name": "python"
    }
  },
  "cells": [
    {
      "cell_type": "markdown",
      "metadata": {
        "id": "view-in-github",
        "colab_type": "text"
      },
      "source": [
        "<a href=\"https://colab.research.google.com/github/PotoArrugado/Trabajos/blob/main/algoritmo_de_ordenamiento.ipynb\" target=\"_parent\"><img src=\"https://colab.research.google.com/assets/colab-badge.svg\" alt=\"Open In Colab\"/></a>"
      ]
    },
    {
      "cell_type": "code",
      "source": [
        "def bubble_sort(list_):\n",
        "    n = len(list_)\n",
        "    for i in range(n-1):\n",
        "        for j in range(n-i-1):\n",
        "            if list_[j] > list_[j+1]:\n",
        "                list_[j], list_[j+1] = list_[j+1], list_[j]\n",
        "    print(list_)\n",
        "my_list = [12, 3, 7, 15, 1, 10, 5, 9, 4, 14, 2, 8, 11, 6, 13]\n",
        "bubble_sort(my_list)"
      ],
      "metadata": {
        "id": "0xNP0Wly4uXj"
      },
      "execution_count": null,
      "outputs": []
    }
  ]
}