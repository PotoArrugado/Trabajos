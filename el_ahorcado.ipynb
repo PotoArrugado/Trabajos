{
  "nbformat": 4,
  "nbformat_minor": 0,
  "metadata": {
    "colab": {
      "provenance": [],
      "authorship_tag": "ABX9TyMr9jPLLcE22cT6tbHcZNE3",
      "include_colab_link": true
    },
    "kernelspec": {
      "name": "python3",
      "display_name": "Python 3"
    },
    "language_info": {
      "name": "python"
    }
  },
  "cells": [
    {
      "cell_type": "markdown",
      "metadata": {
        "id": "view-in-github",
        "colab_type": "text"
      },
      "source": [
        "<a href=\"https://colab.research.google.com/github/PotoArrugado/Trabajos/blob/main/el_ahorcado.ipynb\" target=\"_parent\"><img src=\"https://colab.research.google.com/assets/colab-badge.svg\" alt=\"Open In Colab\"/></a>"
      ]
    },
    {
      "cell_type": "code",
      "execution_count": null,
      "metadata": {
        "id": "gMIyDzT85SHn"
      },
      "outputs": [],
      "source": [
        "import random\n",
        "\n",
        "def elegir_palabra():\n",
        "    \"\"\"Elige una palabra al azar de una lista.\"\"\"\n",
        "    palabras = [\"quesadilla\", \"spaghetti\", \"hamburguesa\", \"pizza\", \"sopa\", \"estofado\"]\n",
        "    return random.choice(palabras)\n",
        "\n",
        "def mostrar_tablero(palabra_oculta, intentos_restantes):\n",
        "    \"\"\"Muestra el estado actual del tablero y los intentos restantes.\"\"\"\n",
        "    print(\"\\nPalabra:\", \" \".join(palabra_oculta))\n",
        "    print(\"Intentos restantes:\", intentos_restantes)\n",
        "\n",
        "def pedir_letra(letras_intentadas):\n",
        "    \"\"\"Pide al usuario que ingrese una letra válida.\"\"\"\n",
        "    while True:\n",
        "        letra = input(\"Ingresa una letra: \").lower()\n",
        "        if len(letra) == 1 and letra.isalpha():\n",
        "            if letra in letras_intentadas:\n",
        "                print(\"Ya intentaste esa letra. Intenta de nuevo.\")\n",
        "            else:\n",
        "                return letra\n",
        "        else:\n",
        "            print(\"Entrada inválida. Por favor, ingresa una sola letra.\")\n",
        "\n",
        "def actualizar_tablero(palabra_secreta, palabra_oculta, letra):\n",
        "    \"\"\"Actualiza el tablero revelando las letras coincidentes.\"\"\"\n",
        "    nueva_palabra_oculta = list(palabra_oculta)\n",
        "    for i, char in enumerate(palabra_secreta):\n",
        "        if char == letra:\n",
        "            nueva_palabra_oculta[i] = letra\n",
        "    return \"\".join(nueva_palabra_oculta)\n",
        "\n",
        "def verificar_ganador(palabra_oculta):\n",
        "    \"\"\"Verifica si el jugador ha adivinado la palabra completa.\"\"\"\n",
        "    return \"_\" not in palabra_oculta\n",
        "\n",
        "def jugar_ahorcado():\n",
        "    \"\"\"Función principal que ejecuta el juego del ahorcado.\"\"\"\n",
        "    palabra_secreta = elegir_palabra()\n",
        "    palabra_oculta = \"_\" * len(palabra_secreta)\n",
        "    intentos_maximos = 6\n",
        "    intentos_restantes = intentos_maximos\n",
        "    letras_intentadas = set()\n",
        "\n",
        "    print(\"¡Bienvenido al juego del Ahorcado!\")\n",
        "    mostrar_tablero(palabra_oculta, intentos_restantes)\n",
        "\n",
        "    while intentos_restantes > 0 and not verificar_ganador(palabra_oculta):\n",
        "        letra = pedir_letra(letras_intentadas)\n",
        "        letras_intentadas.add(letra)\n",
        "\n",
        "        if letra in palabra_secreta:\n",
        "            print(\"¡Correcto!\")\n",
        "            palabra_oculta = actualizar_tablero(palabra_secreta, palabra_oculta, letra)\n",
        "        else:\n",
        "            intentos_restantes -= 1\n",
        "            print(f\"¡Incorrecto! Te quedan {intentos_restantes} intentos.\")\n",
        "\n",
        "        mostrar_tablero(palabra_oculta, intentos_restantes)\n",
        "\n",
        "    if verificar_ganador(palabra_oculta):\n",
        "        print(\"¡Felicidades! Adivinaste la palabra:\", palabra_secreta)\n",
        "    else:\n",
        "        print(\"¡Perdiste! La palabra era:\", palabra_secreta)\n",
        "\n",
        "# Iniciar el juego\n",
        "if __name__ == \"__main__\":\n",
        "    jugar_ahorcado()"
      ]
    }
  ]
}